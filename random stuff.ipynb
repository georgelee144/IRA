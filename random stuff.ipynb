{
 "cells": [
  {
   "cell_type": "code",
   "execution_count": 4,
   "id": "b41d7859",
   "metadata": {},
   "outputs": [],
   "source": [
    "import pandas as pd\n",
    "import datetime"
   ]
  },
  {
   "cell_type": "code",
   "execution_count": 10,
   "id": "0dddeba6",
   "metadata": {},
   "outputs": [
    {
     "data": {
      "text/plain": [
       "0.0239"
      ]
     },
     "execution_count": 10,
     "metadata": {},
     "output_type": "execute_result"
    }
   ],
   "source": [
    "current_year_month = datetime.datetime.today().strftime(\"%Y%m\")\n",
    "URL = f\"https://home.treasury.gov/resource-center/data-chart-center/interest-rates/daily-treasury-rates.csv/all/{current_year_month}?type=daily_treasury_yield_curve&field_tdr_date_value_month={current_year_month}&page&_format=csv\"\n",
    "df = pd.read_csv(URL)\n",
    "\n",
    "most_recent_row = df.iloc[0]\n",
    "most_recent_row['1 Mo']/100\n"
   ]
  },
  {
   "cell_type": "code",
   "execution_count": 8,
   "id": "5736001d",
   "metadata": {},
   "outputs": [
    {
     "data": {
      "text/plain": [
       "Index(['Date', '1 Mo', '2 Mo', '3 Mo', '6 Mo', '1 Yr', '2 Yr', '3 Yr', '5 Yr',\n",
       "       '7 Yr', '10 Yr', '20 Yr', '30 Yr'],\n",
       "      dtype='object')"
      ]
     },
     "execution_count": 8,
     "metadata": {},
     "output_type": "execute_result"
    }
   ],
   "source": [
    "df.columns"
   ]
  },
  {
   "cell_type": "code",
   "execution_count": 11,
   "id": "ac85de27",
   "metadata": {},
   "outputs": [],
   "source": [
    "import pandas as pd\n",
    "from zipfile import ZipFile\n",
    "import requests\n",
    "import io\n",
    "\n",
    "url = \"https://mba.tuck.dartmouth.edu/pages/faculty/ken.french/ftp/F-F_Research_Data_5_Factors_2x3_CSV.zip\"\n",
    "csv_filename = \"F-F_Research_Data_5_Factors_2x3.csv\"\n",
    "\n",
    "# zf = ZipFile(url) \n",
    "# df = pd.read_csv(zf.open(csv_filename))\n"
   ]
  },
  {
   "cell_type": "code",
   "execution_count": 15,
   "id": "d4c63331",
   "metadata": {},
   "outputs": [
    {
     "data": {
      "text/html": [
       "<div>\n",
       "<style scoped>\n",
       "    .dataframe tbody tr th:only-of-type {\n",
       "        vertical-align: middle;\n",
       "    }\n",
       "\n",
       "    .dataframe tbody tr th {\n",
       "        vertical-align: top;\n",
       "    }\n",
       "\n",
       "    .dataframe thead th {\n",
       "        text-align: right;\n",
       "    }\n",
       "</style>\n",
       "<table border=\"1\" class=\"dataframe\">\n",
       "  <thead>\n",
       "    <tr style=\"text-align: right;\">\n",
       "      <th></th>\n",
       "      <th>Unnamed: 0</th>\n",
       "      <th>Mkt-RF</th>\n",
       "      <th>SMB</th>\n",
       "      <th>HML</th>\n",
       "      <th>RMW</th>\n",
       "      <th>CMA</th>\n",
       "      <th>RF</th>\n",
       "    </tr>\n",
       "  </thead>\n",
       "  <tbody>\n",
       "    <tr>\n",
       "      <th>0</th>\n",
       "      <td>196307</td>\n",
       "      <td>-0.39</td>\n",
       "      <td>-0.44</td>\n",
       "      <td>-0.89</td>\n",
       "      <td>0.68</td>\n",
       "      <td>-1.23</td>\n",
       "      <td>0.27</td>\n",
       "    </tr>\n",
       "    <tr>\n",
       "      <th>1</th>\n",
       "      <td>196308</td>\n",
       "      <td>5.07</td>\n",
       "      <td>-0.75</td>\n",
       "      <td>1.68</td>\n",
       "      <td>0.36</td>\n",
       "      <td>-0.34</td>\n",
       "      <td>0.25</td>\n",
       "    </tr>\n",
       "    <tr>\n",
       "      <th>2</th>\n",
       "      <td>196309</td>\n",
       "      <td>-1.57</td>\n",
       "      <td>-0.55</td>\n",
       "      <td>0.08</td>\n",
       "      <td>-0.71</td>\n",
       "      <td>0.29</td>\n",
       "      <td>0.27</td>\n",
       "    </tr>\n",
       "    <tr>\n",
       "      <th>3</th>\n",
       "      <td>196310</td>\n",
       "      <td>2.53</td>\n",
       "      <td>-1.37</td>\n",
       "      <td>-0.14</td>\n",
       "      <td>2.80</td>\n",
       "      <td>-2.02</td>\n",
       "      <td>0.29</td>\n",
       "    </tr>\n",
       "    <tr>\n",
       "      <th>4</th>\n",
       "      <td>196311</td>\n",
       "      <td>-0.85</td>\n",
       "      <td>-0.89</td>\n",
       "      <td>1.81</td>\n",
       "      <td>-0.51</td>\n",
       "      <td>2.31</td>\n",
       "      <td>0.27</td>\n",
       "    </tr>\n",
       "    <tr>\n",
       "      <th>...</th>\n",
       "      <td>...</td>\n",
       "      <td>...</td>\n",
       "      <td>...</td>\n",
       "      <td>...</td>\n",
       "      <td>...</td>\n",
       "      <td>...</td>\n",
       "      <td>...</td>\n",
       "    </tr>\n",
       "    <tr>\n",
       "      <th>763</th>\n",
       "      <td>2017</td>\n",
       "      <td>21.51</td>\n",
       "      <td>-6.12</td>\n",
       "      <td>-13.51</td>\n",
       "      <td>4.72</td>\n",
       "      <td>-11.54</td>\n",
       "      <td>0.80</td>\n",
       "    </tr>\n",
       "    <tr>\n",
       "      <th>764</th>\n",
       "      <td>2018</td>\n",
       "      <td>-6.95</td>\n",
       "      <td>-5.17</td>\n",
       "      <td>-9.80</td>\n",
       "      <td>-1.33</td>\n",
       "      <td>0.06</td>\n",
       "      <td>1.83</td>\n",
       "    </tr>\n",
       "    <tr>\n",
       "      <th>765</th>\n",
       "      <td>2019</td>\n",
       "      <td>28.28</td>\n",
       "      <td>-6.19</td>\n",
       "      <td>-10.20</td>\n",
       "      <td>4.26</td>\n",
       "      <td>-3.19</td>\n",
       "      <td>2.15</td>\n",
       "    </tr>\n",
       "    <tr>\n",
       "      <th>766</th>\n",
       "      <td>2020</td>\n",
       "      <td>23.66</td>\n",
       "      <td>3.16</td>\n",
       "      <td>-46.46</td>\n",
       "      <td>-5.16</td>\n",
       "      <td>-11.74</td>\n",
       "      <td>0.45</td>\n",
       "    </tr>\n",
       "    <tr>\n",
       "      <th>767</th>\n",
       "      <td>2021</td>\n",
       "      <td>23.56</td>\n",
       "      <td>-1.11</td>\n",
       "      <td>25.55</td>\n",
       "      <td>26.73</td>\n",
       "      <td>11.56</td>\n",
       "      <td>0.04</td>\n",
       "    </tr>\n",
       "  </tbody>\n",
       "</table>\n",
       "<p>768 rows × 7 columns</p>\n",
       "</div>"
      ],
      "text/plain": [
       "    Unnamed: 0    Mkt-RF       SMB       HML       RMW       CMA        RF\n",
       "0       196307     -0.39     -0.44     -0.89      0.68     -1.23      0.27\n",
       "1       196308      5.07     -0.75      1.68      0.36     -0.34      0.25\n",
       "2       196309     -1.57     -0.55      0.08     -0.71      0.29      0.27\n",
       "3       196310      2.53     -1.37     -0.14      2.80     -2.02      0.29\n",
       "4       196311     -0.85     -0.89      1.81     -0.51      2.31      0.27\n",
       "..         ...       ...       ...       ...       ...       ...       ...\n",
       "763       2017     21.51     -6.12    -13.51      4.72    -11.54      0.80\n",
       "764       2018     -6.95     -5.17     -9.80     -1.33      0.06      1.83\n",
       "765       2019     28.28     -6.19    -10.20      4.26     -3.19      2.15\n",
       "766       2020     23.66      3.16    -46.46     -5.16    -11.74      0.45\n",
       "767       2021     23.56     -1.11     25.55     26.73     11.56      0.04\n",
       "\n",
       "[768 rows x 7 columns]"
      ]
     },
     "execution_count": 15,
     "metadata": {},
     "output_type": "execute_result"
    }
   ],
   "source": [
    "\n",
    "df"
   ]
  },
  {
   "cell_type": "code",
   "execution_count": null,
   "id": "504a3792",
   "metadata": {},
   "outputs": [],
   "source": []
  }
 ],
 "metadata": {
  "kernelspec": {
   "display_name": "Python 3 (ipykernel)",
   "language": "python",
   "name": "python3"
  },
  "language_info": {
   "codemirror_mode": {
    "name": "ipython",
    "version": 3
   },
   "file_extension": ".py",
   "mimetype": "text/x-python",
   "name": "python",
   "nbconvert_exporter": "python",
   "pygments_lexer": "ipython3",
   "version": "3.9.7"
  }
 },
 "nbformat": 4,
 "nbformat_minor": 5
}
