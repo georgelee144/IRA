{
 "cells": [
  {
   "cell_type": "code",
   "execution_count": 1,
   "id": "0eafd238",
   "metadata": {},
   "outputs": [],
   "source": [
    "import pandas as pd\n",
    "import portfolio_analysis\n",
    "import numpy as np"
   ]
  },
  {
   "cell_type": "code",
   "execution_count": 2,
   "id": "e8a2ec64",
   "metadata": {},
   "outputs": [
    {
     "name": "stdout",
     "output_type": "stream",
     "text": [
      "<class 'pandas.core.frame.DataFrame'>\n",
      "RangeIndex: 1259 entries, 0 to 1258\n",
      "Data columns (total 7 columns):\n",
      " #   Column     Non-Null Count  Dtype  \n",
      "---  ------     --------------  -----  \n",
      " 0   Date       1259 non-null   object \n",
      " 1   Open       1259 non-null   float64\n",
      " 2   High       1259 non-null   float64\n",
      " 3   Low        1259 non-null   float64\n",
      " 4   Close      1259 non-null   float64\n",
      " 5   Adj Close  1259 non-null   float64\n",
      " 6   Volume     1259 non-null   int64  \n",
      "dtypes: float64(5), int64(1), object(1)\n",
      "memory usage: 69.0+ KB\n",
      "None\n"
     ]
    },
    {
     "data": {
      "text/html": [
       "<div>\n",
       "<style scoped>\n",
       "    .dataframe tbody tr th:only-of-type {\n",
       "        vertical-align: middle;\n",
       "    }\n",
       "\n",
       "    .dataframe tbody tr th {\n",
       "        vertical-align: top;\n",
       "    }\n",
       "\n",
       "    .dataframe thead th {\n",
       "        text-align: right;\n",
       "    }\n",
       "</style>\n",
       "<table border=\"1\" class=\"dataframe\">\n",
       "  <thead>\n",
       "    <tr style=\"text-align: right;\">\n",
       "      <th></th>\n",
       "      <th>Date</th>\n",
       "      <th>Open</th>\n",
       "      <th>High</th>\n",
       "      <th>Low</th>\n",
       "      <th>Close</th>\n",
       "      <th>Adj Close</th>\n",
       "      <th>Volume</th>\n",
       "    </tr>\n",
       "  </thead>\n",
       "  <tbody>\n",
       "    <tr>\n",
       "      <th>0</th>\n",
       "      <td>2017-08-07</td>\n",
       "      <td>43.529999</td>\n",
       "      <td>43.529999</td>\n",
       "      <td>43.529999</td>\n",
       "      <td>43.529999</td>\n",
       "      <td>32.409184</td>\n",
       "      <td>0</td>\n",
       "    </tr>\n",
       "    <tr>\n",
       "      <th>1</th>\n",
       "      <td>2017-08-08</td>\n",
       "      <td>43.490002</td>\n",
       "      <td>43.490002</td>\n",
       "      <td>43.490002</td>\n",
       "      <td>43.490002</td>\n",
       "      <td>32.379402</td>\n",
       "      <td>0</td>\n",
       "    </tr>\n",
       "    <tr>\n",
       "      <th>2</th>\n",
       "      <td>2017-08-09</td>\n",
       "      <td>43.540001</td>\n",
       "      <td>43.540001</td>\n",
       "      <td>43.540001</td>\n",
       "      <td>43.540001</td>\n",
       "      <td>32.416630</td>\n",
       "      <td>0</td>\n",
       "    </tr>\n",
       "    <tr>\n",
       "      <th>3</th>\n",
       "      <td>2017-08-10</td>\n",
       "      <td>43.060001</td>\n",
       "      <td>43.060001</td>\n",
       "      <td>43.060001</td>\n",
       "      <td>43.060001</td>\n",
       "      <td>32.059269</td>\n",
       "      <td>0</td>\n",
       "    </tr>\n",
       "    <tr>\n",
       "      <th>4</th>\n",
       "      <td>2017-08-11</td>\n",
       "      <td>43.080002</td>\n",
       "      <td>43.080002</td>\n",
       "      <td>43.080002</td>\n",
       "      <td>43.080002</td>\n",
       "      <td>32.074146</td>\n",
       "      <td>0</td>\n",
       "    </tr>\n",
       "  </tbody>\n",
       "</table>\n",
       "</div>"
      ],
      "text/plain": [
       "         Date       Open       High        Low      Close  Adj Close  Volume\n",
       "0  2017-08-07  43.529999  43.529999  43.529999  43.529999  32.409184       0\n",
       "1  2017-08-08  43.490002  43.490002  43.490002  43.490002  32.379402       0\n",
       "2  2017-08-09  43.540001  43.540001  43.540001  43.540001  32.416630       0\n",
       "3  2017-08-10  43.060001  43.060001  43.060001  43.060001  32.059269       0\n",
       "4  2017-08-11  43.080002  43.080002  43.080002  43.080002  32.074146       0"
      ]
     },
     "execution_count": 2,
     "metadata": {},
     "output_type": "execute_result"
    }
   ],
   "source": [
    "df = pd.read_csv(\"RWMHX.csv\")\n",
    "print(df.info())\n",
    "df.head()"
   ]
  },
  {
   "cell_type": "code",
   "execution_count": 3,
   "id": "09f96bac",
   "metadata": {},
   "outputs": [],
   "source": [
    "df[\"ln_returns\"] = portfolio_analysis.get_ln_returns(df[\"Adj Close\"])"
   ]
  },
  {
   "cell_type": "code",
   "execution_count": 6,
   "id": "ad5e142b",
   "metadata": {},
   "outputs": [
    {
     "name": "stdout",
     "output_type": "stream",
     "text": [
      "0.0003929252145170827 0.0 0.012274586580703664\n"
     ]
    }
   ],
   "source": [
    "sharpe_ratio  = portfolio_analysis.sharpe_ratio(returns = df[\"ln_returns\"],risk_free_rate=np.log(1) )"
   ]
  },
  {
   "cell_type": "code",
   "execution_count": 7,
   "id": "5db11434",
   "metadata": {},
   "outputs": [
    {
     "data": {
      "text/plain": [
       "0.03201127890814531"
      ]
     },
     "execution_count": 7,
     "metadata": {},
     "output_type": "execute_result"
    }
   ],
   "source": [
    "sharpe_ratio"
   ]
  }
 ],
 "metadata": {
  "kernelspec": {
   "display_name": "Python 3 (ipykernel)",
   "language": "python",
   "name": "python3"
  },
  "language_info": {
   "codemirror_mode": {
    "name": "ipython",
    "version": 3
   },
   "file_extension": ".py",
   "mimetype": "text/x-python",
   "name": "python",
   "nbconvert_exporter": "python",
   "pygments_lexer": "ipython3",
   "version": "3.9.7"
  }
 },
 "nbformat": 4,
 "nbformat_minor": 5
}
